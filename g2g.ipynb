{
 "cells": [
  {
   "cell_type": "code",
   "execution_count": 102,
   "metadata": {
    "collapsed": true
   },
   "outputs": [],
   "source": [
    "import pandas as pd\n",
    "import matplotlib.pyplot as plt\n",
    "from matplotlib import colors as mcolors\n",
    "import math\n",
    "from typing import List, Tuple"
   ]
  },
  {
   "cell_type": "code",
   "execution_count": 103,
   "metadata": {
    "collapsed": true
   },
   "outputs": [],
   "source": [
    "# matplotlib colors\n",
    "colors = dict(mcolors.BASE_COLORS, **mcolors.CSS4_COLORS)"
   ]
  },
  {
   "cell_type": "code",
   "execution_count": 104,
   "metadata": {
    "collapsed": true
   },
   "outputs": [],
   "source": [
    "def get_dataframe(book_name:str) -> Tuple[pd.DataFrame, pd.DataFrame]:\n",
    "    \"\"\"get dataframe from excel file.\n",
    "\n",
    "    Args:\n",
    "        book_name: name of excel file.\n",
    "\n",
    "    Returns:\n",
    "        node dataframe, color dataframe.\n",
    "    \"\"\"    \n",
    "    EXL = pd.ExcelFile(book_name)\n",
    "    df_color = EXL.parse(\"color\")\n",
    "    df_node = EXL.parse(\"node\")\n",
    "    return df_node, df_color"
   ]
  },
  {
   "cell_type": "code",
   "execution_count": 105,
   "metadata": {
    "collapsed": true
   },
   "outputs": [],
   "source": [
    "def is_color(string: str) -> bool:\n",
    "    \"\"\" Return the string passed is whether or not intended to represent the color.\n",
    "    \n",
    "    \"string indicate color\" means \n",
    "    RGB(%d, %d, %d), or\n",
    "    matplotlib color.\n",
    "    if you want add rule, add rule to this function.\n",
    "\n",
    "    Args:\n",
    "        string: string data to judge indecating color or not.\n",
    "\n",
    "    Returns:\n",
    "        the string passed is whether or not intended to represent the color.\n",
    "        true: it's color.\n",
    "        false: it isn't color.\n",
    "    \"\"\"\n",
    "    return (\"RGB(\" in string) or (string in colors)"
   ]
  },
  {
   "cell_type": "code",
   "execution_count": 106,
   "metadata": {
    "collapsed": true
   },
   "outputs": [],
   "source": [
    "# RGB や matplotlib colorsにhitした時にcolor codeを返す(format: #ABCDEF)\n",
    "def get_code(string: str) -> str:\n",
    "    \"\"\" RGB(%d,%d,%d) or matplotlib color(e.g. red, blue ...) -> RGB(%02X, %02x, %02X)(e.g. #AABBCC)\n",
    "    \n",
    "    from decimanl numbered RGB or matplotlib color to hex numbered RGB\n",
    "    if you want to add rule, add convert method in this function\n",
    "    \n",
    "    Args:\n",
    "        string: string data to convert to hex number\n",
    "        \n",
    "    Returns:\n",
    "        RGB data written in hex number\n",
    "    \n",
    "    Raise:\n",
    "        if string is not indicate color, raise ValueError\n",
    "    \"\"\"\n",
    "    \n",
    "    # RGB(%d, %d, %d) style\n",
    "    if \"RGB(\" in string:\n",
    "        string = string.replace(\"RGB(\", \"\")\n",
    "        string = string.replace(\")\", \"\")\n",
    "        c = list(map(int, string.split(\",\")))\n",
    "        return '#%02X%02X%02X' % (c[0], c[1], c[2])\n",
    "    # matplotlib color style\n",
    "    elif string in colors:\n",
    "        return colors[string]\n",
    "    raise ValueError(\"color code must be matplotlib colors or RGB(%02X, %02X, %02X)\")"
   ]
  },
  {
   "cell_type": "code",
   "execution_count": 107,
   "metadata": {
    "collapsed": true
   },
   "outputs": [],
   "source": [
    "def is_selector(string: str, selector_method_dict) -> bool:\n",
    "    \"\"\" Return the string passed is whether or not \"selector\".\n",
    "    \n",
    "    selector is a function that determines nodes to color.\n",
    "    \n",
    "    Args:\n",
    "        string: String for determining whether it is a selector\n",
    "        selector_method_dict: selector:method dict\n",
    "    \n",
    "    Returns:\n",
    "        is string selector?\n",
    "    \"\"\"\n",
    "    \n",
    "    # RGB() is not selector(color)\n",
    "    if(\"RGB(\" in string): return False\n",
    "    # string has (\n",
    "    if(\"(\" in string):\n",
    "        # strip XXXXX() => XXXXX\n",
    "        # if XXXXXX in selector_method_dict, it's selector!\n",
    "        # TODO: Now we are only judging from the beginning of brackets, but change to regular expression.\n",
    "        # note: Does it correspond to nesting of functions? (i think it's risky because of maintainuns, readability )\n",
    "        print(selector_method_dict)\n",
    "        print(string.split(\"(\")[0] in selector_method_dict)\n",
    "        return string.split(\"(\")[0] in selector_method_dict\n",
    "    return False;"
   ]
  },
  {
   "cell_type": "code",
   "execution_count": 108,
   "metadata": {
    "collapsed": true
   },
   "outputs": [],
   "source": [
    "def get_method_value(string: str) -> Tuple[str, List[float]]:\n",
    "    \"\"\" selector XXXXXX(value) => XXXXXX, [float(value)].\n",
    "    \n",
    "    separate function name and argument.\n",
    "    \n",
    "    Args:\n",
    "        string: string data to separate.\n",
    "    \n",
    "    Returns:\n",
    "        function name, argument value.\n",
    "    \"\"\"\n",
    "    method = string.split(\"(\")[0];\n",
    "    value = string.split(\"(\")[1].replace(\")\", \"\");\n",
    "    print(method, value)\n",
    "    return method, [float(value)]"
   ]
  },
  {
   "cell_type": "code",
   "execution_count": 109,
   "metadata": {
    "collapsed": true
   },
   "outputs": [],
   "source": [
    "def get_selector_color_dicts(df_color: pd.DataFrame, selector_method_dict):\n",
    "    \"\"\" make selector_color_dict from df_color(excel file).\n",
    "    \n",
    "    selector_color_dict means \"Which range shows which color\".\n",
    "    TODO: %で割合にする仕様を追加する \n",
    "    10 RGB(255,0,0) 20 TOP3 RGB(0,255,0) ...\n",
    "    => [{selector: equation, color: colormap or color or [color] }]\n",
    "    selector: MINMAX ... MIN <= x <= MAX 's color is \"color\"Args:\n",
    "    selector: TOPx ... TOP x 's color is \"color\"    df_color: color data readed from excel file.\n",
    "        selector_method_dict: (selector: method(function)) dict.\n",
    "    \n",
    "    Returns:\n",
    "        selector_color_dict: Which range shows which color\n",
    "    \"\"\"\n",
    "    \n",
    "    # first, Interpret each line\n",
    "    # [(\"color\", colorcode) or (\"selector\", {\"method\":method, value:value}) or (\"number\", value)]\n",
    "    selector_number_color_dict = []\n",
    "    # get first column name\n",
    "    column_name = df_color.columns[0]\n",
    "\n",
    "    for i in range(df_color[column_name].size):\n",
    "        row = df_color[column_name][i]\n",
    "        row = str(row)\n",
    "        # color\n",
    "        if is_color(row):\n",
    "            selector_number_color_dict.append((\"color\", get_code(row)))\n",
    "        # selector\n",
    "        elif is_selector(row, selector_method_dict):\n",
    "            method, values = get_method_value(row)\n",
    "            selector_number_color_dict.append((\"selector\", {\"method\": method, \"values\": values}))\n",
    "        elif row.isdigit():\n",
    "            n = float(row)\n",
    "            selector_number_color_dict.append((\"number\" , n))\n",
    "\n",
    "    # make MINMAX method from Color sandwiched between numbers\n",
    "    selector_color_dicts = [];\n",
    "    for i in range(len(selector_number_color_dict)):\n",
    "        if(selector_number_color_dict[i][0] == \"color\"):\n",
    "            # default number is nan\n",
    "            # prv: preview row\n",
    "            prv = math.nan\n",
    "            # nxt: next row\n",
    "            nxt = math.nan\n",
    "            # sel: selector\n",
    "            sel = \"\"\n",
    "\n",
    "            # if prev is selector, this color's selector is this\n",
    "            if(1 <= i and selector_number_color_dict[i-1][0] == \"selector\"):\n",
    "                sel = selector_number_color_dict[i-1][1]\n",
    "            # elif prev is number this color's selector is MINMAX\n",
    "            if(1 <= i and selector_number_color_dict[i-1][0] == \"number\"):\n",
    "                prv = selector_number_color_dict[i-1][1]\n",
    "            # if next is number this color's selecor is MINMAX\n",
    "            if(i < len(selector_number_color_dict)-1 and selector_number_color_dict[i+1][0] == \"number\"):\n",
    "                nxt = selector_number_color_dict[i+1][1]\n",
    "\n",
    "            # if this row means selector, add as it is\n",
    "            if(sel != \"\"): selector_color_dicts.append({\"selector\": sel, \"color\" : selector_number_color_dict[i][1]})\n",
    "            # else it means MINMAX selector\n",
    "            else: selector_color_dicts.append({\"selector\": {\"method\": \"MINMAX\", \"values\": [prv, nxt]}, \"color\" : selector_number_color_dict[i][1]})\n",
    "    \n",
    "    return selector_color_dicts"
   ]
  },
  {
   "cell_type": "code",
   "execution_count": 110,
   "metadata": {
    "collapsed": true
   },
   "outputs": [],
   "source": [
    "def get_name_color_dict(df_node: pd.DataFrame, column_name, selector_method_dict, selector_color_dicts):\n",
    "    \"\"\" make correspondence dict of which name indicates which color.\n",
    "    \n",
    "    Args:\n",
    "        df_node: node dataframe\n",
    "        column_name: \n",
    "        selector_method_dict: selector:method dict\n",
    "        selector_color_dicts: [selector:color] dict\n",
    "    \n",
    "    Returns:\n",
    "        correspondence dict of which name indicates which color.\n",
    "    \"\"\"\n",
    "    name_color_dict = {}\n",
    "    for dic in selector_color_dicts:\n",
    "        method = dic[\"selector\"][\"method\"]\n",
    "        values = dic[\"selector\"][\"values\"]\n",
    "        color = dic[\"color\"]\n",
    "        if(method in selector_method_dict):\n",
    "            selected_row = selector_method_dict[method](df_node, column_name, values)\n",
    "            print(selected_row)\n",
    "\n",
    "        if \"名前\" in df_node.columns:\n",
    "            for n in selected_row[\"名前\"]:\n",
    "                name_color_dict[n] = color\n",
    "            \n",
    "    return name_color_dict"
   ]
  },
  {
   "cell_type": "code",
   "execution_count": 111,
   "metadata": {
    "collapsed": true
   },
   "outputs": [],
   "source": [
    "def to_diag(output_filename:str, edge_filename:str, df_node:pd.DataFrame, name_color_dict) -> None:\n",
    "    \"\"\" make diag data from df_node, name_color_dict\n",
    "    \n",
    "    Args:\n",
    "        output_filename: output filename\n",
    "        edge_filename: edge filename(aaa -> bbb; bbb->ccc ...)\n",
    "        df_node: node dataframe (from excel file)\n",
    "        name_color_dict: dict data maked by get_name_color_dict\n",
    "    \"\"\"\n",
    "    # make label for output blockdiag file\n",
    "    df_node[\"label\"] = df_node[\"名前\"] + \" \\\\n \"\n",
    "    for a in df_node:\n",
    "        if(a == \"名前\" or a == \"label\"): continue\n",
    "        df_node[\"label\"] += str(a) + \": \" + df_node[a].astype(str) + \" \\\\n \"\n",
    "\n",
    "    # Cut off the last 4 characters (eliminate the last newline)\n",
    "    df_node[\"label\"] = df_node[\"label\"].map(lambda x:x[:-4])\n",
    "    \n",
    "    # Variable for deleting the last}\n",
    "    last_bracket_pos = 0\n",
    "    i = 0\n",
    "    output = []\n",
    "    for line in open(edge_filename):\n",
    "        output.append(line)\n",
    "        if('}' in line):\n",
    "            last_bracket_pos = i\n",
    "        i += 1\n",
    "\n",
    "    # remove last \"}\"\n",
    "    output = output[:last_bracket_pos]\n",
    "\n",
    "    output.append('\\n')\n",
    "\n",
    "    # node information \n",
    "    for key, row in df_node.iterrows():\n",
    "        output.append(row[\"名前\"] + \"[label=\\\"\" + row[\"label\"] + \"\\\", color=\\\"\" + name_color_dict[row[\"名前\"]] +\"\\\"];\\n\");\n",
    "\n",
    "    # add last \"}\"\n",
    "    output.append('}')\n",
    "\n",
    "    f = open(output_filename, 'w')\n",
    "    f.writelines(output)\n",
    "    f.close()"
   ]
  },
  {
   "cell_type": "code",
   "execution_count": 112,
   "metadata": {
    "collapsed": true
   },
   "outputs": [],
   "source": [
    "# method names\n",
    "\n",
    "def get_top(df_node, column_name, values):\n",
    "    selected_row = df_node.copy();\n",
    "    value = int(values[0])\n",
    "    selected_row = df_node.copy()\n",
    "    selected_row = selected_row.nlargest(value, column_name)\n",
    "    return selected_row\n",
    "\n",
    "def min_max(df_node, column_name, values):\n",
    "    selected_row = df_node.copy();\n",
    "    if(values[0] is not math.nan): selected_row = selected_row[values[0] <= selected_row[column_name]]\n",
    "    if(values[1] is not math.nan): selected_row = selected_row[values[1] > selected_row[column_name]]\n",
    "    return selected_row\n",
    "            \n",
    "default_selector_method_dict = {\n",
    "    \"TOP\": get_top,\n",
    "    \"MINMAX\": min_max,\n",
    "}"
   ]
  },
  {
   "cell_type": "code",
   "execution_count": 115,
   "metadata": {},
   "outputs": [
    {
     "name": "stdout",
     "output_type": "stream",
     "text": [
      "{'TOP': <function get_top at 0x11a02be18>, 'MINMAX': <function min_max at 0x11a02bea0>}\n",
      "True\n",
      "TOP 3\n",
      "             名前    paramA        paramB  paramC\n",
      "0         A_top  7.397979  43069.578089      10\n",
      "2       日本語test  5.600000  66741.381375       4\n",
      "11       E_PAGE  4.600000  44121.264531      30\n",
      "12  branch_PAGE  9.900000  29226.761041      12\n",
      "              名前  paramA        paramB  paramC\n",
      "1          B_TOP    15.0  99409.703087       2\n",
      "3    それぞれの項目_TOP    13.0  85414.501155     100\n",
      "4          C_TOP    14.5  95504.455222       3\n",
      "5  C_detail_page    11.7  82347.414753     124\n",
      "6       にホN語test    11.8  86705.031812      30\n",
      "7      list_view    16.7  56451.003900      24\n",
      "8         D_PAGE    11.0  51592.526965       5\n",
      "9    D_NEXT_PAGE    15.3  10575.319214      50\n",
      "             名前  paramA       paramB  paramC\n",
      "10  E_NEXT_PAGE    51.5  79581.66396      24\n",
      "             名前  paramA        paramB  paramC\n",
      "10  E_NEXT_PAGE    51.5  79581.663960      24\n",
      "7     list_view    16.7  56451.003900      24\n",
      "9   D_NEXT_PAGE    15.3  10575.319214      50\n"
     ]
    }
   ],
   "source": [
    "if __name__ == '__main__':\n",
    "    # read data\n",
    "    df_node, df_color = get_dataframe(\"data.xlsx\")\n",
    "    # selector:color dict\n",
    "    selector_color_dicts = get_selector_color_dicts(df_color, default_selector_method_dict)\n",
    "    # row name:color dict\n",
    "    name_color_dict = get_name_color_dict(df_node,df_color.columns[0],default_selector_method_dict, selector_color_dicts)\n",
    "    # output file\n",
    "    to_diag(\"out.diag\", \"map.diag\", df_node, name_color_dict)"
   ]
  },
  {
   "cell_type": "code",
   "execution_count": 114,
   "metadata": {},
   "outputs": [
    {
     "data": {
      "text/plain": [
       "[{'color': '#FF0000', 'selector': {'method': 'MINMAX', 'values': [nan, 10.0]}},\n",
       " {'color': '#00FF00',\n",
       "  'selector': {'method': 'MINMAX', 'values': [10.0, 50.0]}},\n",
       " {'color': '#FF0000', 'selector': {'method': 'MINMAX', 'values': [50.0, nan]}},\n",
       " {'color': '#0000FF', 'selector': {'method': 'TOP', 'values': [3.0]}}]"
      ]
     },
     "execution_count": 114,
     "metadata": {},
     "output_type": "execute_result"
    }
   ],
   "source": []
  }
 ],
 "metadata": {
  "kernelspec": {
   "display_name": "Python 3",
   "language": "python",
   "name": "python3"
  },
  "language_info": {
   "codemirror_mode": {
    "name": "ipython",
    "version": 3
   },
   "file_extension": ".py",
   "mimetype": "text/x-python",
   "name": "python",
   "nbconvert_exporter": "python",
   "pygments_lexer": "ipython3",
   "version": "3.6.1"
  }
 },
 "nbformat": 4,
 "nbformat_minor": 2
}
